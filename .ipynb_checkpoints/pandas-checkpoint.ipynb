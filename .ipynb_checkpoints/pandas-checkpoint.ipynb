{
 "cells": [
  {
   "cell_type": "code",
   "execution_count": 14,
   "id": "e7b85095-a60f-414e-a328-9694f4f9e1e8",
   "metadata": {},
   "outputs": [],
   "source": [
    "import pandas as pd"
   ]
  },
  {
   "cell_type": "code",
   "execution_count": 53,
   "id": "8cad603d-7d86-4378-ad88-f7a6650641e6",
   "metadata": {},
   "outputs": [],
   "source": [
    "df = pd.read_csv('SampleData.csv')"
   ]
  },
  {
   "cell_type": "code",
   "execution_count": 54,
   "id": "51224ccb-259b-46b1-a324-1aec6ae38f57",
   "metadata": {},
   "outputs": [
    {
     "data": {
      "text/html": [
       "<div>\n",
       "<style scoped>\n",
       "    .dataframe tbody tr th:only-of-type {\n",
       "        vertical-align: middle;\n",
       "    }\n",
       "\n",
       "    .dataframe tbody tr th {\n",
       "        vertical-align: top;\n",
       "    }\n",
       "\n",
       "    .dataframe thead th {\n",
       "        text-align: right;\n",
       "    }\n",
       "</style>\n",
       "<table border=\"1\" class=\"dataframe\">\n",
       "  <thead>\n",
       "    <tr style=\"text-align: right;\">\n",
       "      <th></th>\n",
       "      <th>Continent</th>\n",
       "      <th>Frontend</th>\n",
       "      <th>Backend</th>\n",
       "    </tr>\n",
       "  </thead>\n",
       "  <tbody>\n",
       "    <tr>\n",
       "      <th>0</th>\n",
       "      <td>Africa</td>\n",
       "      <td>40</td>\n",
       "      <td>80</td>\n",
       "    </tr>\n",
       "    <tr>\n",
       "      <th>1</th>\n",
       "      <td>Europe</td>\n",
       "      <td>80</td>\n",
       "      <td>120</td>\n",
       "    </tr>\n",
       "    <tr>\n",
       "      <th>2</th>\n",
       "      <td>Asia</td>\n",
       "      <td>120</td>\n",
       "      <td>80</td>\n",
       "    </tr>\n",
       "    <tr>\n",
       "      <th>3</th>\n",
       "      <td>North America</td>\n",
       "      <td>100</td>\n",
       "      <td>80</td>\n",
       "    </tr>\n",
       "    <tr>\n",
       "      <th>4</th>\n",
       "      <td>South America</td>\n",
       "      <td>200</td>\n",
       "      <td>150</td>\n",
       "    </tr>\n",
       "  </tbody>\n",
       "</table>\n",
       "</div>"
      ],
      "text/plain": [
       "       Continent  Frontend  Backend\n",
       "0         Africa        40       80\n",
       "1         Europe        80      120\n",
       "2           Asia       120       80\n",
       "3  North America       100       80\n",
       "4  South America       200      150"
      ]
     },
     "execution_count": 54,
     "metadata": {},
     "output_type": "execute_result"
    }
   ],
   "source": [
    "df.head()"
   ]
  },
  {
   "cell_type": "code",
   "execution_count": 60,
   "id": "4d68977a-21b1-4bf0-b2ac-16c7cb769895",
   "metadata": {},
   "outputs": [],
   "source": [
    "df = df.sort_values('Frontend')"
   ]
  },
  {
   "cell_type": "code",
   "execution_count": 64,
   "id": "bdd7ca4d-6255-46d4-a98f-44cc93fbf7cc",
   "metadata": {},
   "outputs": [
    {
     "name": "stdout",
     "output_type": "stream",
     "text": [
      "       Continent  Frontend  Backend\n",
      "5      Australia        18       50\n",
      "0         Africa        40       80\n",
      "1         Europe        80      120\n",
      "3  North America       100       80\n",
      "2           Asia       120       80\n",
      "4  South America       200      150\n"
     ]
    }
   ],
   "source": [
    "print(df)"
   ]
  },
  {
   "cell_type": "code",
   "execution_count": 65,
   "id": "f82a1a11-6de9-429e-b5b7-8125ef56bdd1",
   "metadata": {},
   "outputs": [
    {
     "name": "stdout",
     "output_type": "stream",
     "text": [
      "   Continent  Frontend  Backend\n",
      "5  Australia        18       50\n",
      "0     Africa        40       80\n",
      "1     Europe        80      120\n"
     ]
    }
   ],
   "source": [
    "print(df.head(3))"
   ]
  },
  {
   "cell_type": "code",
   "execution_count": 3,
   "id": "973237be-2f23-4e99-b95e-0ed82b057531",
   "metadata": {},
   "outputs": [
    {
     "name": "stdout",
     "output_type": "stream",
     "text": [
      "颜婷婷是1只猪\n",
      "颜婷婷是2只猪\n",
      "颜婷婷是3只猪\n",
      "颜婷婷是4只猪\n",
      "颜婷婷是5只猪\n",
      "颜婷婷是6只猪\n",
      "颜婷婷是7只猪\n",
      "颜婷婷是8只猪\n",
      "颜婷婷是9只猪\n",
      "颜婷婷是10只猪\n",
      "颜婷婷是11只猪\n",
      "颜婷婷是12只猪\n",
      "颜婷婷是13只猪\n",
      "颜婷婷是14只猪\n",
      "颜婷婷是15只猪\n",
      "颜婷婷是16只猪\n",
      "颜婷婷是17只猪\n",
      "颜婷婷是18只猪\n",
      "颜婷婷是19只猪\n",
      "颜婷婷是20只猪\n",
      "颜婷婷是21只猪\n"
     ]
    },
    {
     "ename": "KeyboardInterrupt",
     "evalue": "",
     "output_type": "error",
     "traceback": [
      "\u001b[0;31m---------------------------------------------------------------------------\u001b[0m",
      "\u001b[0;31mKeyboardInterrupt\u001b[0m                         Traceback (most recent call last)",
      "Cell \u001b[0;32mIn[3], line 6\u001b[0m\n\u001b[1;32m      4\u001b[0m i \u001b[38;5;241m=\u001b[39m i \u001b[38;5;241m+\u001b[39m\u001b[38;5;241m1\u001b[39m\n\u001b[1;32m      5\u001b[0m \u001b[38;5;28mprint\u001b[39m(\u001b[38;5;124mf\u001b[39m\u001b[38;5;124m'\u001b[39m\u001b[38;5;124m颜婷婷是\u001b[39m\u001b[38;5;132;01m{\u001b[39;00mi\u001b[38;5;132;01m}\u001b[39;00m\u001b[38;5;124m只猪\u001b[39m\u001b[38;5;124m'\u001b[39m)\n\u001b[0;32m----> 6\u001b[0m \u001b[43mtime\u001b[49m\u001b[38;5;241;43m.\u001b[39;49m\u001b[43msleep\u001b[49m\u001b[43m(\u001b[49m\u001b[38;5;241;43m1\u001b[39;49m\u001b[43m)\u001b[49m\n",
      "\u001b[0;31mKeyboardInterrupt\u001b[0m: "
     ]
    }
   ],
   "source": [
    "import time\n",
    "i = 0\n",
    "while True:\n",
    "    i = i +1\n",
    "    print(f'颜婷婷是{i}只猪')\n",
    "    time.sleep(1)"
   ]
  },
  {
   "cell_type": "code",
   "execution_count": null,
   "id": "0449ee54-756e-4405-8a1f-f7ec555d0d02",
   "metadata": {},
   "outputs": [],
   "source": []
  },
  {
   "cell_type": "code",
   "execution_count": null,
   "id": "6399def5-4356-4d50-a22c-a2423d6f4046",
   "metadata": {},
   "outputs": [],
   "source": []
  }
 ],
 "metadata": {
  "kernelspec": {
   "display_name": "Python 3 (ipykernel)",
   "language": "python",
   "name": "python3"
  },
  "language_info": {
   "codemirror_mode": {
    "name": "ipython",
    "version": 3
   },
   "file_extension": ".py",
   "mimetype": "text/x-python",
   "name": "python",
   "nbconvert_exporter": "python",
   "pygments_lexer": "ipython3",
   "version": "3.10.11"
  }
 },
 "nbformat": 4,
 "nbformat_minor": 5
}
