{
 "cells": [
  {
   "cell_type": "code",
   "execution_count": 1,
   "id": "e7b85095-a60f-414e-a328-9694f4f9e1e8",
   "metadata": {},
   "outputs": [],
   "source": [
    "import pandas as pd"
   ]
  },
  {
   "cell_type": "code",
   "execution_count": 2,
   "id": "8cad603d-7d86-4378-ad88-f7a6650641e6",
   "metadata": {},
   "outputs": [],
   "source": [
    "df = pd.read_csv('SampleData.csv')"
   ]
  },
  {
   "cell_type": "code",
   "execution_count": 3,
   "id": "51224ccb-259b-46b1-a324-1aec6ae38f57",
   "metadata": {},
   "outputs": [
    {
     "data": {
      "text/html": [
       "<div>\n",
       "<style scoped>\n",
       "    .dataframe tbody tr th:only-of-type {\n",
       "        vertical-align: middle;\n",
       "    }\n",
       "\n",
       "    .dataframe tbody tr th {\n",
       "        vertical-align: top;\n",
       "    }\n",
       "\n",
       "    .dataframe thead th {\n",
       "        text-align: right;\n",
       "    }\n",
       "</style>\n",
       "<table border=\"1\" class=\"dataframe\">\n",
       "  <thead>\n",
       "    <tr style=\"text-align: right;\">\n",
       "      <th></th>\n",
       "      <th>Continent</th>\n",
       "      <th>Frontend</th>\n",
       "      <th>Backend</th>\n",
       "    </tr>\n",
       "  </thead>\n",
       "  <tbody>\n",
       "    <tr>\n",
       "      <th>0</th>\n",
       "      <td>Africa</td>\n",
       "      <td>40</td>\n",
       "      <td>80</td>\n",
       "    </tr>\n",
       "    <tr>\n",
       "      <th>1</th>\n",
       "      <td>Europe</td>\n",
       "      <td>80</td>\n",
       "      <td>120</td>\n",
       "    </tr>\n",
       "    <tr>\n",
       "      <th>2</th>\n",
       "      <td>Asia</td>\n",
       "      <td>120</td>\n",
       "      <td>80</td>\n",
       "    </tr>\n",
       "    <tr>\n",
       "      <th>3</th>\n",
       "      <td>North America</td>\n",
       "      <td>100</td>\n",
       "      <td>80</td>\n",
       "    </tr>\n",
       "    <tr>\n",
       "      <th>4</th>\n",
       "      <td>South America</td>\n",
       "      <td>200</td>\n",
       "      <td>150</td>\n",
       "    </tr>\n",
       "  </tbody>\n",
       "</table>\n",
       "</div>"
      ],
      "text/plain": [
       "       Continent  Frontend  Backend\n",
       "0         Africa        40       80\n",
       "1         Europe        80      120\n",
       "2           Asia       120       80\n",
       "3  North America       100       80\n",
       "4  South America       200      150"
      ]
     },
     "execution_count": 3,
     "metadata": {},
     "output_type": "execute_result"
    }
   ],
   "source": [
    "df.head()"
   ]
  },
  {
   "cell_type": "code",
   "execution_count": 4,
   "id": "4d68977a-21b1-4bf0-b2ac-16c7cb769895",
   "metadata": {},
   "outputs": [],
   "source": [
    "df = df.sort_values('Frontend')"
   ]
  },
  {
   "cell_type": "code",
   "execution_count": 5,
   "id": "bdd7ca4d-6255-46d4-a98f-44cc93fbf7cc",
   "metadata": {},
   "outputs": [
    {
     "name": "stdout",
     "output_type": "stream",
     "text": [
      "       Continent  Frontend  Backend\n",
      "5      Australia        18       50\n",
      "0         Africa        40       80\n",
      "1         Europe        80      120\n",
      "3  North America       100       80\n",
      "2           Asia       120       80\n",
      "4  South America       200      150\n"
     ]
    }
   ],
   "source": [
    "print(df)"
   ]
  },
  {
   "cell_type": "code",
   "execution_count": 6,
   "id": "f82a1a11-6de9-429e-b5b7-8125ef56bdd1",
   "metadata": {},
   "outputs": [
    {
     "name": "stdout",
     "output_type": "stream",
     "text": [
      "   Continent  Frontend  Backend\n",
      "5  Australia        18       50\n",
      "0     Africa        40       80\n",
      "1     Europe        80      120\n"
     ]
    }
   ],
   "source": [
    "print(df.head(3))"
   ]
  },
  {
   "cell_type": "code",
   "execution_count": 8,
   "id": "0449ee54-756e-4405-8a1f-f7ec555d0d02",
   "metadata": {},
   "outputs": [
    {
     "data": {
      "text/plain": [
       "5     50\n",
       "0     80\n",
       "1    120\n",
       "3     80\n",
       "2     80\n",
       "4    150\n",
       "Name: Backend, dtype: int64"
      ]
     },
     "execution_count": 8,
     "metadata": {},
     "output_type": "execute_result"
    }
   ],
   "source": [
    "df['Backend']"
   ]
  },
  {
   "cell_type": "code",
   "execution_count": 10,
   "id": "6399def5-4356-4d50-a22c-a2423d6f4046",
   "metadata": {},
   "outputs": [
    {
     "data": {
      "text/plain": [
       "5     68\n",
       "0    120\n",
       "1    200\n",
       "3    180\n",
       "2    200\n",
       "4    350\n",
       "dtype: int64"
      ]
     },
     "execution_count": 10,
     "metadata": {},
     "output_type": "execute_result"
    }
   ],
   "source": [
    "df['Frontend']+df['Backend']"
   ]
  },
  {
   "cell_type": "code",
   "execution_count": null,
   "id": "1321914a-edd8-475c-94ae-efbf78aef1ff",
   "metadata": {},
   "outputs": [],
   "source": []
  }
 ],
 "metadata": {
  "kernelspec": {
   "display_name": "Python 3 (ipykernel)",
   "language": "python",
   "name": "python3"
  },
  "language_info": {
   "codemirror_mode": {
    "name": "ipython",
    "version": 3
   },
   "file_extension": ".py",
   "mimetype": "text/x-python",
   "name": "python",
   "nbconvert_exporter": "python",
   "pygments_lexer": "ipython3",
   "version": "3.10.11"
  }
 },
 "nbformat": 4,
 "nbformat_minor": 5
}
